{
 "cells": [
  {
   "cell_type": "code",
   "execution_count": 26,
   "id": "6e25a473",
   "metadata": {},
   "outputs": [
    {
     "name": "stdout",
     "output_type": "stream",
     "text": [
      "[[  9  12  31  21  55  78  14  15  47  75   5  16]\n",
      " [ 46  39   1  86  83   6  73  50  90  50  90  78]\n",
      " [ 83  60  92  69  11  76  40  93   2  61 100  39]\n",
      " [  3  69   0  52  28  48  48  22  45  93  53  48]\n",
      " [ 60  91  66  15  19  28  97  43  94  89  69   8]\n",
      " [ 89  76  81  96   4  25   7  52  89  22  38  24]\n",
      " [ 61  22   3   8   6  99  98  98  96  24  25 100]\n",
      " [ 19  50  96  79  50   3  18  37  72  19  72  29]\n",
      " [ 39  89  90  79  88  70  21  44  25  65  81  50]\n",
      " [ 44  14  53  76  90  28 100  96  90  21  49  60]\n",
      " [ 29  76  78  59  19  59  59  83  95  27  22  26]\n",
      " [ 99  75  89  22  11  70  64  71  29  98  70  73]]\n",
      "Kiểu dữ liệu của phần tử trong ma trận: int32\n",
      "Kích thước mảng ma trận: (12, 12)\n",
      "Số phần tử trong mảng ma trận: 144\n",
      "Số chiều trong mảng ma trận: 2\n",
      "--------------------------------------------\n",
      "Vector các phần tử nằm trên đường chéo chính: [9, 39, 92, 52, 19, 25, 98, 37, 25, 21, 22, 73]\n",
      "Vector các phần tử nằm trên đường chéo phụ: [16, 90, 61, 45, 43, 7, 99, 50, 79, 53, 76, 99]\n",
      "--------------------------------------------\n",
      "Nhập vào giá trị x (0-100): 39\n",
      "1.Số phần tử có giá trị bằng x trong ma trận: 3\n",
      "3.Số phần tử nhỏ hơn giá trị x trong ma trận: 51\n",
      "2.Số phần tử lớn hơn giá trị x trong ma trận: 90\n"
     ]
    }
   ],
   "source": [
    "import numpy as np\n",
    "\n",
    "#yc1\n",
    "n = 12\n",
    "min_value = 0\n",
    "max_value = 100\n",
    "\n",
    "matrix = np.random.randint(min_value, max_value + 1, size=(n, n))\n",
    "\n",
    "print(matrix)\n",
    "print(\"Kiểu dữ liệu của phần tử trong ma trận:\", matrix.dtype)\n",
    "print(\"Kích thước mảng ma trận:\", matrix.shape)\n",
    "print(\"Số phần tử trong mảng ma trận:\", matrix.size)\n",
    "print(\"Số chiều trong mảng ma trận:\", matrix.ndim)\n",
    "print(\"--------------------------------------------\")\n",
    "#yc2\n",
    "v_chinh = [matrix[i][i] for i in range(n)]\n",
    "v_phu = [matrix[i][n - 1 - i] for i in range(n)]\n",
    "\n",
    "print(\"Vector các phần tử nằm trên đường chéo chính:\", v_chinh)\n",
    "print(\"Vector các phần tử nằm trên đường chéo phụ:\", v_phu)\n",
    "print(\"--------------------------------------------\")\n",
    "#yc3\n",
    "x = int(input(\"Nhập vào giá trị x (0-100): \"))\n",
    "equal_count = np.sum(matrix == x)\n",
    "greater_count = np.sum(matrix > x)\n",
    "smaller_count = np.sum(matrix < x)\n",
    "\n",
    "print(\"1.Số phần tử có giá trị bằng x trong ma trận:\", equal_count)\n",
    "print(\"3.Số phần tử nhỏ hơn giá trị x trong ma trận:\", smaller_count)\n",
    "print(\"2.Số phần tử lớn hơn giá trị x trong ma trận:\", greater_count)"
   ]
  }
 ],
 "metadata": {
  "kernelspec": {
   "display_name": "Python 3 (ipykernel)",
   "language": "python",
   "name": "python3"
  },
  "language_info": {
   "codemirror_mode": {
    "name": "ipython",
    "version": 3
   },
   "file_extension": ".py",
   "mimetype": "text/x-python",
   "name": "python",
   "nbconvert_exporter": "python",
   "pygments_lexer": "ipython3",
   "version": "3.11.4"
  }
 },
 "nbformat": 4,
 "nbformat_minor": 5
}
