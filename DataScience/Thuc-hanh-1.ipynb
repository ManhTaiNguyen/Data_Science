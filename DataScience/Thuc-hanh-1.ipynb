{
 "cells": [
  {
   "cell_type": "code",
   "execution_count": 4,
   "id": "04eb5426",
   "metadata": {},
   "outputs": [
    {
     "name": "stdout",
     "output_type": "stream",
     "text": [
      "Thông tin DataFrame df_number:\n",
      "<class 'pandas.core.frame.DataFrame'>\n",
      "RangeIndex: 113680 entries, 0 to 113679\n",
      "Data columns (total 4 columns):\n",
      " #   Column      Non-Null Count   Dtype  \n",
      "---  ------      --------------   -----  \n",
      " 0   loan_amnt   113680 non-null  int64  \n",
      " 1   int_rate    113680 non-null  float64\n",
      " 2   annual_inc  113676 non-null  float64\n",
      " 3   bad_loan    113680 non-null  int64  \n",
      "dtypes: float64(2), int64(2)\n",
      "memory usage: 3.5 MB\n",
      "None\n",
      "\n",
      "Thông tin DataFrame df_object:\n",
      "<class 'pandas.core.frame.DataFrame'>\n",
      "RangeIndex: 113680 entries, 0 to 113679\n",
      "Data columns (total 4 columns):\n",
      " #   Column          Non-Null Count   Dtype \n",
      "---  ------          --------------   ----- \n",
      " 0   term            113680 non-null  object\n",
      " 1   home_ownership  113680 non-null  object\n",
      " 2   purpose         113680 non-null  object\n",
      " 3   addr_state      113680 non-null  object\n",
      "dtypes: object(4)\n",
      "memory usage: 3.5+ MB\n",
      "None\n",
      "Thông tin DataFrame df_Temp:\n",
      "    25.65 24.79 24.01 25.06 25.48 24.97\n",
      "0                                   NaN\n",
      "1                                   NaN\n",
      "2                                   NaN\n",
      "3                                   NaN\n",
      "4                                   NaN\n",
      "..                                  ...\n",
      "186                                 NaN\n",
      "187                                 NaN\n",
      "188                                 NaN\n",
      "189                                 NaN\n",
      "190                                 NaN\n",
      "\n",
      "[191 rows x 1 columns]\n"
     ]
    }
   ],
   "source": [
    "import pandas as pd\n",
    "import csv\n",
    "\n",
    "df = pd.read_csv('csv_Data_Loan.csv')\n",
    "df_number = df.select_dtypes(include=['number'])\n",
    "df_object = df.select_dtypes(include=['object'])\n",
    "\n",
    "print(\"Thông tin DataFrame df_number:\")\n",
    "print(df_number.info())\n",
    "print(\"\\nThông tin DataFrame df_object:\")\n",
    "print(df_object.info())\n",
    "\n",
    "df_Temp = pd.read_csv('Temp.txt')\n",
    "cities_of_interest = ['Hà Nội', 'Vinh', 'Đà Nẵng', 'Nha Trang', 'TP Hồ Chí Minh', 'Cà Mau']\n",
    "df_Temp = df_Temp[df_Temp.isin(cities_of_interest)]\n",
    "df_Temp.head()\n",
    "\n",
    "print(\"Thông tin DataFrame df_Temp:\")\n",
    "print(df_Temp)"
   ]
  },
  {
   "cell_type": "code",
   "execution_count": null,
   "id": "4209edb5",
   "metadata": {},
   "outputs": [],
   "source": []
  }
 ],
 "metadata": {
  "kernelspec": {
   "display_name": "Python 3 (ipykernel)",
   "language": "python",
   "name": "python3"
  },
  "language_info": {
   "codemirror_mode": {
    "name": "ipython",
    "version": 3
   },
   "file_extension": ".py",
   "mimetype": "text/x-python",
   "name": "python",
   "nbconvert_exporter": "python",
   "pygments_lexer": "ipython3",
   "version": "3.11.4"
  }
 },
 "nbformat": 4,
 "nbformat_minor": 5
}
