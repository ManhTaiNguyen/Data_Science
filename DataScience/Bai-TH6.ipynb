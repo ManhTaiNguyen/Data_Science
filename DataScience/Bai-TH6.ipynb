{
 "cells": [
  {
   "cell_type": "code",
   "execution_count": 5,
   "id": "1717ede1",
   "metadata": {},
   "outputs": [
    {
     "name": "stdout",
     "output_type": "stream",
     "text": [
      "Vector a: [ 1  2  3  4  5  6  7  8  9 10 11 12 13 14 15 16 17 18 19 20 21 22 23 24\n",
      " 25 26 27 28 29 30]\n",
      "Vector a_le  : [ 1  3  5  7  9 11 13 15 17 19 21 23 25 27 29]\n",
      "Vector a_chan: [ 2  4  6  8 10 12 14 16 18 20 22 24 26 28 30]\n",
      "Vector a_3   : [ 3  6  9 12 15 18 21 24 27 30]\n"
     ]
    }
   ],
   "source": [
    "import numpy as np\n",
    "\n",
    "a = np.arange(1,31,1)\n",
    "a_chan = np.array([],dtype=np.int8)\n",
    "a_le = np.array([],dtype=np.int8)\n",
    "a_3 = np.array([],dtype=np.int8)\n",
    "\n",
    "for i in a-1:\n",
    "    if(a[i] % 2 == 0):\n",
    "        a_chan = np.insert(a_chan,a_chan.size,a[i])\n",
    "    elif(a[i] % 2 != 0):\n",
    "        a_le = np.insert(a_le,a_le.size,a[i])\n",
    "    if(a[i] % 3 == 0):\n",
    "        a_3 = np.insert(a_3,a_3.size,a[i])\n",
    "        \n",
    "print(\"Vector a:\", a)\n",
    "print(\"Vector a_le  :\",a_le)\n",
    "print(\"Vector a_chan:\",a_chan)\n",
    "print(\"Vector a_3   :\",a_3)"
   ]
  },
  {
   "cell_type": "code",
   "execution_count": null,
   "id": "05f0a123",
   "metadata": {},
   "outputs": [],
   "source": []
  }
 ],
 "metadata": {
  "kernelspec": {
   "display_name": "Python 3 (ipykernel)",
   "language": "python",
   "name": "python3"
  },
  "language_info": {
   "codemirror_mode": {
    "name": "ipython",
    "version": 3
   },
   "file_extension": ".py",
   "mimetype": "text/x-python",
   "name": "python",
   "nbconvert_exporter": "python",
   "pygments_lexer": "ipython3",
   "version": "3.11.4"
  }
 },
 "nbformat": 4,
 "nbformat_minor": 5
}
