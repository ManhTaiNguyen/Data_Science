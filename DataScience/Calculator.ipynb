{
 "cells": [
  {
   "cell_type": "code",
   "execution_count": 4,
   "id": "0eabf617",
   "metadata": {},
   "outputs": [
    {
     "name": "stdout",
     "output_type": "stream",
     "text": [
      "Tong a + b =  14\n",
      "Hieu a - b =  4\n",
      "Tich a * b =  45\n",
      "Thuong a / b =  1.8\n"
     ]
    }
   ],
   "source": [
    "#-----------------------------\n",
    "a = 9\n",
    "b = 5\n",
    "\n",
    "Tong = a + b\n",
    "print('Tong a + b = ', Tong)\n",
    "\n",
    "Hieu = a - b\n",
    "print('Hieu a - b = ', Hieu)\n",
    "\n",
    "Tich = a * b\n",
    "print('Tich a * b = ', Tich)\n",
    "\n",
    "Thuong = a / b\n",
    "print('Thuong a / b = ', Thuong)\n",
    "#-----------------------------"
   ]
  },
  {
   "cell_type": "code",
   "execution_count": null,
   "id": "ec0b4da1",
   "metadata": {},
   "outputs": [],
   "source": []
  }
 ],
 "metadata": {
  "kernelspec": {
   "display_name": "Python 3 (ipykernel)",
   "language": "python",
   "name": "python3"
  },
  "language_info": {
   "codemirror_mode": {
    "name": "ipython",
    "version": 3
   },
   "file_extension": ".py",
   "mimetype": "text/x-python",
   "name": "python",
   "nbconvert_exporter": "python",
   "pygments_lexer": "ipython3",
   "version": "3.11.4"
  }
 },
 "nbformat": 4,
 "nbformat_minor": 5
}
