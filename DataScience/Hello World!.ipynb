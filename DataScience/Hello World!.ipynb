{
 "cells": [
  {
   "cell_type": "code",
   "execution_count": 1,
   "id": "40e4a32f",
   "metadata": {},
   "outputs": [
    {
     "name": "stdout",
     "output_type": "stream",
     "text": [
      "1\n",
      "Gia tri cua bien a =  1\n",
      "------------------------\n",
      "1\n",
      "3\n",
      "5\n",
      "Gia tri cua bien A = 9\n",
      "2\n",
      "Gia tri cua bien a =  3\n",
      "------------------------\n",
      "1\n",
      "3\n",
      "5\n",
      "Gia tri cua bien A = 18\n",
      "3\n",
      "Gia tri cua bien a =  6\n",
      "------------------------\n",
      "1\n",
      "3\n",
      "5\n",
      "Gia tri cua bien A = 27\n",
      "4\n",
      "Gia tri cua bien a =  10\n",
      "------------------------\n",
      "1\n",
      "3\n",
      "5\n",
      "Gia tri cua bien A = 36\n",
      "5\n",
      "Gia tri cua bien a =  15\n",
      "------------------------\n",
      "1\n",
      "3\n",
      "5\n",
      "Gia tri cua bien A = 45\n"
     ]
    }
   ],
   "source": [
    "a = 0;\n",
    "A = 0;\n",
    "for i in range(1,6):\n",
    "    print(i)\n",
    "    a = a + i\n",
    "    \n",
    "    print('Gia tri cua bien a = ', a)\n",
    "    print('------------------------')\n",
    "    \n",
    "    for i in range(1,6,2):\n",
    "        print(i)\n",
    "        A = A + i\n",
    "        \n",
    "    print('Gia tri cua bien A =', A)"
   ]
  },
  {
   "cell_type": "code",
   "execution_count": null,
   "id": "8e332dab",
   "metadata": {},
   "outputs": [],
   "source": []
  }
 ],
 "metadata": {
  "kernelspec": {
   "display_name": "Python 3 (ipykernel)",
   "language": "python",
   "name": "python3"
  },
  "language_info": {
   "codemirror_mode": {
    "name": "ipython",
    "version": 3
   },
   "file_extension": ".py",
   "mimetype": "text/x-python",
   "name": "python",
   "nbconvert_exporter": "python",
   "pygments_lexer": "ipython3",
   "version": "3.11.4"
  }
 },
 "nbformat": 4,
 "nbformat_minor": 5
}
