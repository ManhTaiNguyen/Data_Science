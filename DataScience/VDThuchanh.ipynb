{
 "cells": [
  {
   "cell_type": "code",
   "execution_count": 6,
   "id": "a44e8ad4",
   "metadata": {},
   "outputs": [
    {
     "name": "stdout",
     "output_type": "stream",
     "text": [
      "Số ký tự có trong đoạn văn trên là:  140\n"
     ]
    }
   ],
   "source": [
    "x = \"Nước Việt Nam là một, dân tộc Việt Nam là một. Sông có thể cạn núi có thể mòn, song chân lý không bao giờ thay đổi. (HỒ CHÍ MINH, 1890-1969)\"\n",
    "count={}\n",
    "print(\"Số ký tự có trong đoạn văn trên là: \", len(x))"
   ]
  },
  {
   "cell_type": "code",
   "execution_count": 11,
   "id": "61cbb378",
   "metadata": {
    "scrolled": true
   },
   "outputs": [
    {
     "name": "stdout",
     "output_type": "stream",
     "text": [
      "-1\n",
      "-1\n"
     ]
    }
   ],
   "source": [
    "print(x.find(\"hồ chí minh\"))\n",
    "print(x.find(\"non sông\"))"
   ]
  },
  {
   "cell_type": "code",
   "execution_count": null,
   "id": "f0cc00f8",
   "metadata": {},
   "outputs": [],
   "source": []
  }
 ],
 "metadata": {
  "kernelspec": {
   "display_name": "Python 3 (ipykernel)",
   "language": "python",
   "name": "python3"
  },
  "language_info": {
   "codemirror_mode": {
    "name": "ipython",
    "version": 3
   },
   "file_extension": ".py",
   "mimetype": "text/x-python",
   "name": "python",
   "nbconvert_exporter": "python",
   "pygments_lexer": "ipython3",
   "version": "3.11.4"
  }
 },
 "nbformat": 4,
 "nbformat_minor": 5
}
